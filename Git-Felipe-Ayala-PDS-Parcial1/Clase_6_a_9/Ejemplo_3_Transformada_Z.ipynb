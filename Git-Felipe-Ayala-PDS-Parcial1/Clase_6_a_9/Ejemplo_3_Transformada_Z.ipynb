{
 "cells": [
  {
   "cell_type": "markdown",
   "id": "949ff35f",
   "metadata": {},
   "source": [
    "# Ejemplo 3. Transformada Z"
   ]
  },
  {
   "cell_type": "code",
   "execution_count": 2,
   "id": "8952eeb0",
   "metadata": {},
   "outputs": [],
   "source": [
    "from sympy import *\n",
    "import numpy as np\n",
    "import matplotlib.pyplot as plt"
   ]
  },
  {
   "cell_type": "markdown",
   "id": "a768e6fe",
   "metadata": {},
   "source": [
    "### Transformada Z de una secuencia"
   ]
  },
  {
   "cell_type": "code",
   "execution_count": 3,
   "id": "bcc11c2f",
   "metadata": {},
   "outputs": [],
   "source": [
    "def transZsec(arr, zero):\n",
    "    # La funcion recibe un arreglo quees al cual se le va a sacar la\n",
    "    # transformada y un dato 'zero' que es la posición del cero de la secuencia.\n",
    "    Z = Symbol('Z')\n",
    "    pot = zero\n",
    "    for i in arr:\n",
    "        print(f'X({-pot}) =', i*np.power(Z, pot))\n",
    "        pot -= 1"
   ]
  },
  {
   "cell_type": "code",
   "execution_count": 4,
   "id": "26fe6c83",
   "metadata": {},
   "outputs": [],
   "source": [
    "arr = np.array([-7, 2, 2, 1, 15])"
   ]
  },
  {
   "cell_type": "code",
   "execution_count": 5,
   "id": "82f4b37c",
   "metadata": {},
   "outputs": [
    {
     "name": "stdout",
     "output_type": "stream",
     "text": [
      "X(-3) = -7*Z**3\n",
      "X(-2) = 2*Z**2\n",
      "X(-1) = 2*Z\n",
      "X(0) = 1\n",
      "X(1) = 15/Z\n"
     ]
    }
   ],
   "source": [
    "arr_trans = transZsec(arr, 3)"
   ]
  },
  {
   "cell_type": "markdown",
   "id": "695a3e9c",
   "metadata": {},
   "source": [
    "# transformada de un seno"
   ]
  },
  {
   "cell_type": "code",
   "execution_count": 12,
   "id": "c792255f",
   "metadata": {},
   "outputs": [
    {
     "name": "stdout",
     "output_type": "stream",
     "text": [
      "Transformada Z: \n",
      " []\n",
      "Valores de los polos: \n",
      " [0.93910137]\n"
     ]
    },
    {
     "data": {
      "image/png": "[encoded data removed]",
      "text/plain": [
       "<Figure size 432x288 with 1 Axes>"
      ]
     },
     "metadata": {
      "needs_background": "light"
     },
     "output_type": "display_data"
    }
   ],
   "source": [
    "import numpy as np\n",
    "import matplotlib.pyplot as plt\n",
    "from scipy import signal\n",
    "\n",
    "# Definir los parámetros de la señal\n",
    "fs = 1000  # Frecuencia de muestreo\n",
    "f = 10  # Frecuencia de la señal\n",
    "t = np.linspace(0, 1, fs, endpoint=False)  # Vector de tiempo\n",
    "\n",
    "# Generar la señal\n",
    "x = np.sin(2*np.pi*f*t)\n",
    "\n",
    "# Calcular la transformada Z\n",
    "z, p, k = signal.tf2zpk([1], [1, -np.exp(-2*np.pi*f/fs)])\n",
    "\n",
    "# Imprimir la transformada Z\n",
    "print('Transformada Z: \\n', z)\n",
    "\n",
    "# Imprimir los valores de los polos\n",
    "print('Valores de los polos: \\n', p)\n",
    "\n",
    "# Mostrar los ceros y polos en el plano z\n",
    "plt.scatter(np.real(z), np.imag(z), marker='o', color='blue', label='Ceros')\n",
    "plt.scatter(np.real(p), np.imag(p), marker='x', color='red', label='Polos')\n",
    "plt.xlim([-1.5, 1.5])\n",
    "plt.ylim([-1.5, 1.5])\n",
    "plt.title('Ceros y polos en el plano Z')\n",
    "plt.xlabel('Parte real')\n",
    "plt.ylabel('Parte imaginaria')\n",
    "plt.legend()\n",
    "plt.grid(True)\n",
    "plt.show()\n"
   ]
  },
  {
   "cell_type": "code",
   "execution_count": null,
   "id": "2916db6b",
   "metadata": {},
   "outputs": [],
   "source": []
  }
 ],
 "metadata": {
  "kernelspec": {
   "display_name": "Python 3 (ipykernel)",
   "language": "python",
   "name": "python3"
  },
  "language_info": {
   "codemirror_mode": {
    "name": "ipython",
    "version": 3
   },
   "file_extension": ".py",
   "mimetype": "text/x-python",
   "name": "python",
   "nbconvert_exporter": "python",
   "pygments_lexer": "ipython3",
   "version": "3.9.12"
  }
 },
 "nbformat": 4,
 "nbformat_minor": 5
}
